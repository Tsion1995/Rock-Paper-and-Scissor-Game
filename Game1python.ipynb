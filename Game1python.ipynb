{
 "cells": [
  {
   "cell_type": "code",
   "execution_count": null,
   "id": "812b120b",
   "metadata": {},
   "outputs": [
    {
     "name": "stdout",
     "output_type": "stream",
     "text": [
      "Rock,paper or scissor?rock\n",
      "scissor\n",
      "rock\n",
      "you won\n",
      "Do you want to play again?(yes/no)yes\n",
      "Rock,paper or scissor?paper\n",
      "paper\n",
      "paper\n",
      "Tie\n"
     ]
    }
   ],
   "source": [
    "import random\n",
    "while True:\n",
    "    choices=['rock','paper','scissor']\n",
    "    computer=random.choice(choices)\n",
    "    player=input(\"Rock,paper or scissor?\")\n",
    "    if player==computer:\n",
    "        print(computer)\n",
    "        print(player)\n",
    "        print(\"Tie\")\n",
    "    elif player=='scissor':\n",
    "        if computer=='rock':\n",
    "            print(computer)\n",
    "            print(player)\n",
    "            print(\"you lost\")\n",
    "        if computer=='paper':\n",
    "            print(computer)\n",
    "            print(player)\n",
    "            print(\"you won\")\n",
    "    elif player=='rock':\n",
    "        if computer=='paper':\n",
    "            print(computer)\n",
    "            print(player)\n",
    "            print('you lose')\n",
    "        if computer=='scissor':\n",
    "            print(computer)\n",
    "            print(player)\n",
    "            print(\"you won\")\n",
    "    elif player==\"paper\":\n",
    "        if computer==\"rock\":\n",
    "            print(computer)\n",
    "            print(player)\n",
    "            print('you won')\n",
    "        if computer=='scissor':\n",
    "            print(computer)\n",
    "            print(player)\n",
    "            print(\"you lost\")\n",
    "    playAgain=input(\"Do you want to play again?(yes/no)\")\n",
    "    if playAgain !='yes':\n",
    "        break\n",
    "print(\"The game has ended.Thanks for your time\")\n",
    "    "
   ]
  },
  {
   "cell_type": "code",
   "execution_count": null,
   "id": "08fd26eb",
   "metadata": {},
   "outputs": [],
   "source": []
  }
 ],
 "metadata": {
  "kernelspec": {
   "display_name": "Python 3 (ipykernel)",
   "language": "python",
   "name": "python3"
  },
  "language_info": {
   "codemirror_mode": {
    "name": "ipython",
    "version": 3
   },
   "file_extension": ".py",
   "mimetype": "text/x-python",
   "name": "python",
   "nbconvert_exporter": "python",
   "pygments_lexer": "ipython3",
   "version": "3.11.4"
  }
 },
 "nbformat": 4,
 "nbformat_minor": 5
}
